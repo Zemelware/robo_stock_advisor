{
 "cells": [
  {
   "cell_type": "code",
   "execution_count": 3,
   "metadata": {},
   "outputs": [],
   "source": [
    "from IPython.display import display, Math, Latex\n",
    "\n",
    "import pandas as pd\n",
    "import numpy as np\n",
    "import numpy_financial as npf\n",
    "import yfinance as yf\n",
    "import matplotlib.pyplot as plt\n",
    "from datetime import datetime"
   ]
  },
  {
   "cell_type": "markdown",
   "metadata": {},
   "source": [
    "## Group Assignment\n",
    "### Team Number: 15\n",
    "### Team Member Names: Landon Trinh, Ethan Zemelman, Jessie Deng\n",
    "### Team Strategy Chosen: SAFE"
   ]
  },
  {
   "cell_type": "code",
   "execution_count": 4,
   "metadata": {},
   "outputs": [
    {
     "data": {
      "text/html": [
       "<div>\n",
       "<style scoped>\n",
       "    .dataframe tbody tr th:only-of-type {\n",
       "        vertical-align: middle;\n",
       "    }\n",
       "\n",
       "    .dataframe tbody tr th {\n",
       "        vertical-align: top;\n",
       "    }\n",
       "\n",
       "    .dataframe thead th {\n",
       "        text-align: right;\n",
       "    }\n",
       "</style>\n",
       "<table border=\"1\" class=\"dataframe\">\n",
       "  <thead>\n",
       "    <tr style=\"text-align: right;\">\n",
       "      <th></th>\n",
       "      <th>ticker</th>\n",
       "    </tr>\n",
       "  </thead>\n",
       "  <tbody>\n",
       "    <tr>\n",
       "      <th>0</th>\n",
       "      <td>AAPL</td>\n",
       "    </tr>\n",
       "    <tr>\n",
       "      <th>1</th>\n",
       "      <td>ABBV</td>\n",
       "    </tr>\n",
       "    <tr>\n",
       "      <th>2</th>\n",
       "      <td>ABT</td>\n",
       "    </tr>\n",
       "    <tr>\n",
       "      <th>3</th>\n",
       "      <td>ACN</td>\n",
       "    </tr>\n",
       "    <tr>\n",
       "      <th>4</th>\n",
       "      <td>AGN</td>\n",
       "    </tr>\n",
       "  </tbody>\n",
       "</table>\n",
       "</div>"
      ],
      "text/plain": [
       "  ticker\n",
       "0   AAPL\n",
       "1   ABBV\n",
       "2    ABT\n",
       "3    ACN\n",
       "4    AGN"
      ]
     },
     "execution_count": 4,
     "metadata": {},
     "output_type": "execute_result"
    }
   ],
   "source": [
    "# Read in CSV ticker file\n",
    "tickers = pd.read_csv(\"tickers_example.csv\", header=None)\n",
    "tickers = tickers.rename(columns={0: \"ticker\"})\n",
    "tickers.head()"
   ]
  },
  {
   "cell_type": "code",
   "execution_count": 5,
   "metadata": {},
   "outputs": [],
   "source": [
    "# Set parameters\n",
    "start_date = \"2023-01-01\"\n",
    "end_date = \"2023-10-31\"\n",
    "interval = \"1mo\""
   ]
  },
  {
   "cell_type": "code",
   "execution_count": 16,
   "metadata": {},
   "outputs": [
    {
     "data": {
      "text/plain": [
       "Date\n",
       "2023-01-31 00:00:00-05:00    1.443652e+09\n",
       "2023-02-28 00:00:00-05:00    1.307199e+09\n",
       "2023-03-31 00:00:00-04:00    1.520267e+09\n",
       "2023-04-30 00:00:00-04:00    9.697097e+08\n",
       "2023-05-31 00:00:00-04:00    1.275156e+09\n",
       "2023-06-30 00:00:00-04:00    1.297101e+09\n",
       "2023-07-31 00:00:00-04:00    9.960664e+08\n",
       "2023-08-31 00:00:00-04:00    1.322439e+09\n",
       "2023-09-30 00:00:00-04:00    1.337587e+09\n",
       "2023-10-31 00:00:00-04:00    1.172720e+09\n",
       "Freq: M, Name: Volume, dtype: float64"
      ]
     },
     "execution_count": 16,
     "metadata": {},
     "output_type": "execute_result"
    }
   ],
   "source": [
    "# Keep stocks that have an average monthly value of 150k shares based on Jan 1, 2023 to Oct 31, 2023\n",
    "# - A month is defined as a calendar month.  \n",
    "# - Drop any month that does not have at least 18 trading days. \n",
    "\n",
    "def filter_volume(ticker_df):\n",
    "\n",
    "    \n",
    "    # If trading days of month < 18 -> drop month\n",
    "    \n",
    "    # Get average monthly volume of stock -> make sure its > 150k\n",
    "    pass\n",
    "\n",
    "# Get the 1-month average volume for AAPL\n",
    "# yf.Ticker(\"AAPL\").history(start=start_date, end=end_date, interval=interval).Volume.groupby(pd.Grouper"
   ]
  },
  {
   "cell_type": "code",
   "execution_count": 6,
   "metadata": {},
   "outputs": [
    {
     "name": "stdout",
     "output_type": "stream",
     "text": [
      "AGN is not denominated in CAD or USD or de-listed\n",
      "CELG is not denominated in CAD or USD or de-listed\n",
      "MON is not denominated in CAD or USD or de-listed\n",
      "RTN is not denominated in CAD or USD or de-listed\n"
     ]
    }
   ],
   "source": [
    "# Retrieve stock data into DataFrame\n",
    "def get_stock_data(tickers):\n",
    "    \n",
    "    ticker_lst = tickers[\"ticker\"].tolist()\n",
    "    stock_data = pd.DataFrame()\n",
    "    \n",
    "    for ticker in ticker_lst:\n",
    "        try:\n",
    "            # Get base currency\n",
    "            stock_ticker = yf.Ticker(ticker)\n",
    "            base_currency = stock_ticker.fast_info[\"currency\"]\n",
    "            \n",
    "            # Retrieve and store CAD/USD stock data in DataFrame\n",
    "            if base_currency == \"CAD\" or base_currency == \"USD\":\n",
    "                stock_hist = stock_ticker.history(interval=interval, start=start_date, end=end_date)\n",
    "                \n",
    "                # TODO: Make sure we're calculating average monthly volume correctly\n",
    "                monthly_volume = stock_hist.Volume.mean()\n",
    "                if monthly_volume < 150_000:\n",
    "                    print(f\"{ticker} has an average monthly volume of {monthly_volume} and will be dropped\")\n",
    "                    continue\n",
    "\n",
    "                price_data = stock_hist.Close\n",
    "                price_data.index = price_data.index.strftime(\"%Y-%m-%d\")\n",
    "                stock_data[ticker] = price_data\n",
    "        except:\n",
    "            print(f\"{ticker} is not denominated in CAD or USD or de-listed\")\n",
    "        \n",
    "    return stock_data.dropna()\n",
    "\n",
    "closing_prices = get_stock_data(tickers)"
   ]
  },
  {
   "cell_type": "markdown",
   "metadata": {},
   "source": [
    "# Stock Analysis"
   ]
  },
  {
   "cell_type": "code",
   "execution_count": 7,
   "metadata": {},
   "outputs": [],
   "source": [
    "# Get standard deviation of each stock\n",
    "# Get the beta of each stock\n",
    "# Get the expected returns of each stock\n",
    "# Create a correlation matrix of all the stocks"
   ]
  },
  {
   "cell_type": "markdown",
   "metadata": {},
   "source": [
    "# Portfolio Optimization"
   ]
  },
  {
   "cell_type": "code",
   "execution_count": null,
   "metadata": {},
   "outputs": [],
   "source": [
    "# Create random weights for each stock, and create n number of random portfolios\n",
    "# Choose the portfolio with the lowest expected returns"
   ]
  },
  {
   "cell_type": "markdown",
   "metadata": {},
   "source": [
    "## Contribution Declaration\n",
    "\n",
    "The following team members made a meaningful contribution to this assignment:\n",
    "\n",
    "Insert Names Here."
   ]
  }
 ],
 "metadata": {
  "kernelspec": {
   "display_name": "cfm101",
   "language": "python",
   "name": "cfm101"
  },
  "language_info": {
   "codemirror_mode": {
    "name": "ipython",
    "version": 3
   },
   "file_extension": ".py",
   "mimetype": "text/x-python",
   "name": "python",
   "nbconvert_exporter": "python",
   "pygments_lexer": "ipython3",
   "version": "3.11.4"
  }
 },
 "nbformat": 4,
 "nbformat_minor": 2
}
