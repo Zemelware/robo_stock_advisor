{
 "cells": [
  {
   "cell_type": "code",
   "execution_count": 68,
   "metadata": {},
   "outputs": [],
   "source": [
    "from IPython.display import display, Math, Latex\n",
    "\n",
    "import pandas as pd\n",
    "import numpy as np\n",
    "import numpy_financial as npf\n",
    "import yfinance as yf\n",
    "import matplotlib.pyplot as plt\n",
    "from datetime import datetime, date"
   ]
  },
  {
   "cell_type": "markdown",
   "metadata": {},
   "source": [
    "## CFM 101: Group Assignment - Python Roboadvisor\n",
    "### Team Number: 15\n",
    "### Team Member Names: Landon Trinh, Ethan Zemelman, Jessie Deng\n",
    "### Team Strategy Chosen: SAFE"
   ]
  },
  {
   "cell_type": "markdown",
   "metadata": {},
   "source": [
    "## Goal\n",
    "- Our team has decided to target dynamically building the safest portfolio\n",
    "- Given a file of unknown stock tickers, our roboadvisor will run from November 25, 2023 to December 4, 2023\n",
    "- The deviation will be calculated by taking calculating the difference between the final value of the portfolio and the initial portfolio value ($750,000)\n",
    "- Ultimately, our aim is to have our portfolio deviate in nominal value as close to zero\n"
   ]
  },
  {
   "cell_type": "markdown",
   "metadata": {},
   "source": [
    "## Introduction\n",
    "> \"Theory will only take you so far.\" - J. Robert Oppenheimer\n",
    "\n",
    "In theory, our trading strategy should produce a portfolio that deviates in nominal value the least by taking into consideration the following:\n",
    "- Beta\n",
    "- Diversification\n",
    "- Correlation\n",
    "- Standard deviation\n",
    "- Expected returns\n",
    "\n",
    "Our goal will be to tell a convincing story to WHY we are picking our stocks. We will calculate and discuss statistics, display and intepret graphs, and explain our thought process"
   ]
  },
  {
   "cell_type": "markdown",
   "metadata": {},
   "source": [
    "## 1. Setup\n",
    "Before implementing our trading strategy, we will initialize required and useful constants as part of the rules:\n",
    "- Currency of valid stocks (USD or CAD)\n",
    "- Required average monthly volume (150,00 shares)\n",
    "- The number of stocks we wish to purchase on the start date (10-22 stocks)\n",
    "- Time interval (Janurary 1, 2023 - October 31, 2023)\n",
    "- Minimum number of trading days for month (18 days)\n",
    "- Minimum stock weighting: (100/2n)%, n = number of stocks in portfolio\n",
    "- Maximum stock weighting (20%)\n",
    "- Initial investment amount ($750,000 CAD)\n",
    "- Buying date of roboadvisor (November 25, 2023 - December 4, 2023)\n",
    "- Trading fee for each stock trade ($4.95 CAD)\n",
    "\n",
    "In the end, our roboadvisor should create two DataFrames:\n",
    "1. \"Portfolio_Final\"\n",
    "- Index: Starts at 1 and ends at number of stocks in portfolio\n",
    "- Headings: Ticker, Price (price of stock on Nov 25), Currency (CAD or USD), Shares, Value, Weight (adds to 100%)\n",
    "\n",
    "2. \"Stocks_Final\"\n",
    "We should output this DataFrame to a CSV file titled \"Stocks_Group_15.csv\"\n",
    "- Index: Same as \"Portfolio Final\"\n",
    "- Headings: Tickers and Shares from \"Portfolio_Final\"\n"
   ]
  },
  {
   "cell_type": "code",
   "execution_count": 69,
   "metadata": {},
   "outputs": [],
   "source": [
    "# Investment amount (CAD)\n",
    "capital = 750000\n",
    "\n",
    "# Number of stocks to buy for portfolio\n",
    "num_stocks = 15\n",
    "\n",
    "# Maximum and minimum weightings of each stock in portfolio\n",
    "min_weight = 1 / (2 * num_stocks)\n",
    "max_weight = 0.20\n",
    "\n",
    "# Start and end date for roboadvisor\n",
    "# start_date = \"2023-11-25\"\n",
    "# end_date = \"2023-12-04\"\n",
    "\n",
    "# Filtering requirements\n",
    "valid_currency = [\"CAD\", \"USD\"]\n",
    "min_trading_days = 18\n",
    "required_avg_volume = 150000"
   ]
  },
  {
   "cell_type": "markdown",
   "metadata": {},
   "source": [
    "## 2. Filtering\n",
    "After reading in the CSV file containg stock tickers, we must filter the list of stocks to make sure they are valid stock tickers according to the following rules:\n",
    "- Include stocks that have an average monthly volume of at leaest 150,000 shares based on Jan 1, 2023 - Oct 31, 2023 (drop any months that don't have at least 18 trading days)\n",
    "- Stock denominated in USD or CAD"
   ]
  },
  {
   "cell_type": "code",
   "execution_count": 70,
   "metadata": {},
   "outputs": [
    {
     "data": {
      "text/plain": [
       "['AAPL',\n",
       " 'ABBV',\n",
       " 'ABT',\n",
       " 'ACN',\n",
       " 'AGN',\n",
       " 'AIG',\n",
       " 'AMZN',\n",
       " 'AXP',\n",
       " 'BA',\n",
       " 'BAC',\n",
       " 'BIIB',\n",
       " 'BK',\n",
       " 'BLK',\n",
       " 'BMY',\n",
       " 'C',\n",
       " 'CAT',\n",
       " 'CELG',\n",
       " 'CL',\n",
       " 'KO',\n",
       " 'LLY',\n",
       " 'LMT',\n",
       " 'MO',\n",
       " 'MON',\n",
       " 'MRK',\n",
       " 'PEP',\n",
       " 'PFE',\n",
       " 'PG',\n",
       " 'PM',\n",
       " 'PYPL',\n",
       " 'QCOM',\n",
       " 'RTN',\n",
       " 'RY.TO',\n",
       " 'SHOP.TO',\n",
       " 'T.TO',\n",
       " 'TD.TO',\n",
       " 'TXN',\n",
       " 'UNH',\n",
       " 'UNP',\n",
       " 'UPS',\n",
       " 'USB']"
      ]
     },
     "execution_count": 70,
     "metadata": {},
     "output_type": "execute_result"
    }
   ],
   "source": [
    "# Read in CSV ticker file\n",
    "tickers = pd.read_csv(\"tickers_example.csv\", header=None)\n",
    "tickers = tickers.rename(columns={0: \"ticker\"})\n",
    "tickers_lst = tickers[\"ticker\"].tolist()\n",
    "tickers_lst"
   ]
  },
  {
   "cell_type": "code",
   "execution_count": 71,
   "metadata": {},
   "outputs": [],
   "source": [
    "# Set parameters\n",
    "filter_start_date = \"2023-01-01\" # Jan 1, 2023\n",
    "filter_end_date = \"2023-10-31\" # Oct 31, 2023\n",
    "filter_interval = \"1mo\""
   ]
  },
  {
   "cell_type": "code",
   "execution_count": 72,
   "metadata": {},
   "outputs": [],
   "source": [
    "# Keep stocks with average monthly volume of 150k shares - drop months with less than 18 trading days\n",
    "def valid_volume(stock_ticker):\n",
    "\n",
    "    monthly_volumes = []\n",
    "\n",
    "    for month in range(1,10):\n",
    "        # Set monthly date intervals\n",
    "        month_start_date = str(date(2023, month, 1))\n",
    "        month_end_date = str(date(2023, month + 1, 1))\n",
    "\n",
    "        # Retrieve volume data for month\n",
    "        monthly_volume_hist = stock_ticker.history(interval=\"1d\", start=month_start_date, end=month_end_date).Volume\n",
    "        monthly_volume_hist.index = monthly_volume_hist.index.strftime(\"%Y-%m-%d\")\n",
    "\n",
    "        # Retrive number of trading days and averge monthly volume\n",
    "        trading_days = len(monthly_volume_hist)\n",
    "        monthly_volume = monthly_volume_hist.sum()\n",
    "\n",
    "        # Add monthly volume to list if valid number of trading days\n",
    "        if trading_days >= min_trading_days:\n",
    "            monthly_volumes.append(monthly_volume)\n",
    "\n",
    "    # Determine whether average monthly volume meets requirement\n",
    "    avg_monthly_volume = sum(monthly_volumes) / len(monthly_volumes)\n",
    "    if avg_monthly_volume < required_avg_volume:\n",
    "        return False\n",
    "    return True"
   ]
  },
  {
   "cell_type": "markdown",
   "metadata": {},
   "source": [
    "## 3. Stock Analysis\n",
    "- Get standard deviation of each stock\n",
    "- Get the beta of each stock\n",
    "- Get the expected returns of each stock\n",
    "- Create a correlation matrix of all the stocks"
   ]
  },
  {
   "cell_type": "markdown",
   "metadata": {},
   "source": [
    "## 4. Portfolio Optimization\n",
    "- Create random weights for each stock, and create n number of random portfolios\n",
    "- Choose the portfolio with the lowest expected returns"
   ]
  },
  {
   "cell_type": "markdown",
   "metadata": {},
   "source": [
    "## Contribution Declaration\n",
    "\n",
    "The following team members made a meaningful contribution to this assignment:\n",
    "\n",
    "Insert Names Here."
   ]
  }
 ],
 "metadata": {
  "kernelspec": {
   "display_name": "cfm101",
   "language": "python",
   "name": "cfm101"
  },
  "language_info": {
   "codemirror_mode": {
    "name": "ipython",
    "version": 3
   },
   "file_extension": ".py",
   "mimetype": "text/x-python",
   "name": "python",
   "nbconvert_exporter": "python",
   "pygments_lexer": "ipython3",
   "version": "3.11.4"
  }
 },
 "nbformat": 4,
 "nbformat_minor": 2
}
